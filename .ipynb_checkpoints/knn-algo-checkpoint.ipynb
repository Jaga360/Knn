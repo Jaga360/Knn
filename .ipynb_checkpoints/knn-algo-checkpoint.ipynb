{
 "cells": [
  {
   "cell_type": "code",
   "execution_count": 13,
   "metadata": {},
   "outputs": [],
   "source": [
    "import numpy as np\n",
    "import matplotlib.pyplot as plt\n",
    "%matplotlib inline"
   ]
  },
  {
   "cell_type": "markdown",
   "metadata": {},
   "source": [
    "## Prepare data"
   ]
  },
  {
   "cell_type": "code",
   "execution_count": 14,
   "metadata": {},
   "outputs": [
    {
     "data": {
      "image/png": "[encoded data removed]",
      "text/plain": [
       "<Figure size 432x288 with 1 Axes>"
      ]
     },
     "metadata": {
      "needs_background": "light"
     },
     "output_type": "display_data"
    }
   ],
   "source": [
    "plt.xlim(-5,10)\n",
    "plt.ylim(-5,10)\n",
    "\n",
    "mean1=np.array([1,0])\n",
    "cov1=np.array([\n",
    "    [1,0.5],\n",
    "    [0.5,2]\n",
    "])\n",
    "mean2=np.array([5,4])\n",
    "cov2=np.array([\n",
    "    [2,1.5],\n",
    "    [1.5,3]\n",
    "])\n",
    "\n",
    "dist1=np.random.multivariate_normal(mean1,cov1,500)\n",
    "dist2=np.random.multivariate_normal(mean2,cov2,500)\n",
    "\n",
    "\n",
    "plt.scatter(dist1[:,0],dist1[:,1])\n",
    "plt.scatter(dist2[:,0],dist2[:,1])\n",
    "\n",
    "plt.show()\n"
   ]
  },
  {
   "cell_type": "code",
   "execution_count": 15,
   "metadata": {},
   "outputs": [],
   "source": [
    "data=np.zeros((1000,3))\n",
    "data[:500,:2]=dist1\n",
    "data[500:,:2]=dist2\n",
    "data[500:,-1]=1\n",
    "np.random.shuffle(data)"
   ]
  },
  {
   "cell_type": "code",
   "execution_count": 16,
   "metadata": {},
   "outputs": [],
   "source": [
    "# Train 75% and test 25% split\n",
    "\n",
    "x_train=data[:750,:2]\n",
    "y_train=data[:750,-1]\n",
    "\n",
    "x_test=data[750:,:2]\n",
    "y_test=data[750:,-1]\n"
   ]
  },
  {
   "cell_type": "markdown",
   "metadata": {},
   "source": [
    "# KNN algorithm"
   ]
  },
  {
   "cell_type": "code",
   "execution_count": 17,
   "metadata": {},
   "outputs": [],
   "source": [
    "def dist (a,b):\n",
    "    return np.sum((a-b)**2)**0.5\n"
   ]
  },
  {
   "cell_type": "code",
   "execution_count": 18,
   "metadata": {},
   "outputs": [],
   "source": [
    "def knn(x_train,y_train,test_point,k=7):\n",
    "    distances=[]\n",
    "    m=x_train.shape[0]\n",
    "    for i in range(m):\n",
    "        p=dist(x_train[i],test_point)\n",
    "        distances.append([p,y_train[i]])\n",
    "        \n",
    "    distances=sorted(distances)   \n",
    "    np_dist=np.array(distances)\n",
    "    k_points=np_dist[:k,1]\n",
    "    if(np.sum(k_points)>k//2):\n",
    "        return 1\n",
    "    return 0\n",
    "        "
   ]
  },
  {
   "cell_type": "code",
   "execution_count": 19,
   "metadata": {},
   "outputs": [
    {
     "data": {
      "text/plain": [
       "0"
      ]
     },
     "execution_count": 19,
     "metadata": {},
     "output_type": "execute_result"
    }
   ],
   "source": [
    "knn(x_train,y_train,x_test[1])"
   ]
  },
  {
   "cell_type": "markdown",
   "metadata": {},
   "source": [
    "# Accuracy"
   ]
  },
  {
   "cell_type": "code",
   "execution_count": 20,
   "metadata": {},
   "outputs": [],
   "source": [
    "# Using all test points\n",
    "def accuracy(x_train,y_train,x_test,y_test,k=7):\n",
    "    m=x_test.shape[0]\n",
    "    predictions=[]\n",
    "    for i in range(m):\n",
    "        p=knn(x_train,y_train,x_test[i],k=7)\n",
    "        predictions.append(p)\n",
    "    pred=np.array(predictions)\n",
    "    return 100* np.sum(pred==y_test)/m"
   ]
  },
  {
   "cell_type": "code",
   "execution_count": 21,
   "metadata": {},
   "outputs": [
    {
     "data": {
      "text/plain": [
       "94.4"
      ]
     },
     "execution_count": 21,
     "metadata": {},
     "output_type": "execute_result"
    }
   ],
   "source": [
    "accuracy(x_train,y_train,x_test,y_test)"
   ]
  },
  {
   "cell_type": "markdown",
   "metadata": {},
   "source": [
    "# Setting hyperparameter k "
   ]
  },
  {
   "cell_type": "code",
   "execution_count": 22,
   "metadata": {},
   "outputs": [
    {
     "name": "stdout",
     "output_type": "stream",
     "text": [
      "k=1 accuracy=94.4\n",
      "k=2 accuracy=94.4\n",
      "k=3 accuracy=94.4\n",
      "k=4 accuracy=94.4\n",
      "k=5 accuracy=94.4\n",
      "k=6 accuracy=94.4\n",
      "k=7 accuracy=94.4\n",
      "k=8 accuracy=94.4\n",
      "k=9 accuracy=94.4\n",
      "k=10 accuracy=94.4\n"
     ]
    }
   ],
   "source": [
    "for k in range(1,11):\n",
    "     acu=accuracy(x_train,y_train,x_test,y_test,k)\n",
    "     print(f\"k={k} accuracy={acu}\")\n",
    "    "
   ]
  },
  {
   "cell_type": "markdown",
   "metadata": {},
   "source": [
    "# Knn using scikit learn"
   ]
  },
  {
   "cell_type": "code",
   "execution_count": 54,
   "metadata": {},
   "outputs": [],
   "source": [
    "from sklearn.neighbors import KNeighborsClassifier\n",
    "knn=KNeighborsClassifier(n_neighbors=25)"
   ]
  },
  {
   "cell_type": "code",
   "execution_count": 55,
   "metadata": {},
   "outputs": [
    {
     "data": {
      "text/plain": [
       "KNeighborsClassifier(n_neighbors=25)"
      ]
     },
     "execution_count": 55,
     "metadata": {},
     "output_type": "execute_result"
    }
   ],
   "source": [
    "#training  i.e finding model parameters but since knn is instance based aglorithm it stores every data points for\n",
    "# predictions\n",
    "\n",
    "knn.fit(x_train,y_train)"
   ]
  },
  {
   "cell_type": "code",
   "execution_count": 57,
   "metadata": {},
   "outputs": [
    {
     "data": {
      "text/plain": [
       "95.19999999999999"
      ]
     },
     "execution_count": 57,
     "metadata": {},
     "output_type": "execute_result"
    }
   ],
   "source": [
    "# Accuracy\n",
    "knn.score(x_test,y_test)*100"
   ]
  },
  {
   "cell_type": "code",
   "execution_count": 64,
   "metadata": {},
   "outputs": [
    {
     "data": {
      "text/plain": [
       "array([0.])"
      ]
     },
     "execution_count": 64,
     "metadata": {},
     "output_type": "execute_result"
    }
   ],
   "source": [
    "# Predicting the class for new data point\n",
    "\n",
    "# knn.predict(x_test[1].reshape(1,-1))\n",
    "knn.predict([x_test[1]])"
   ]
  },
  {
   "cell_type": "code",
   "execution_count": null,
   "metadata": {},
   "outputs": [],
   "source": []
  },
  {
   "cell_type": "code",
   "execution_count": null,
   "metadata": {},
   "outputs": [],
   "source": []
  }
 ],
 "metadata": {
  "kernelspec": {
   "display_name": "Python 3",
   "language": "python",
   "name": "python3"
  },
  "language_info": {
   "codemirror_mode": {
    "name": "ipython",
    "version": 3
   },
   "file_extension": ".py",
   "mimetype": "text/x-python",
   "name": "python",
   "nbconvert_exporter": "python",
   "pygments_lexer": "ipython3",
   "version": "3.8.5"
  }
 },
 "nbformat": 4,
 "nbformat_minor": 4
}
